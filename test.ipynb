{
 "cells": [
  {
   "cell_type": "code",
   "execution_count": 36,
   "metadata": {},
   "outputs": [
    {
     "data": {
      "text/plain": [
       "True"
      ]
     },
     "execution_count": 36,
     "metadata": {},
     "output_type": "execute_result"
    }
   ],
   "source": [
    "# Retrieval augmented generation\n",
    "\n",
    "import os\n",
    "from dotenv import load_dotenv\n",
    "load_dotenv()"
   ]
  },
  {
   "cell_type": "code",
   "execution_count": 37,
   "metadata": {},
   "outputs": [],
   "source": [
    "os.environ['OPENAI_API_KEY']=os.getenv(\"OPENAI_API_KEY\")"
   ]
  },
  {
   "cell_type": "code",
   "execution_count": 38,
   "metadata": {},
   "outputs": [],
   "source": [
    "from llama_index.legacy import VectorStoreIndex, SimpleDirectoryReader\n",
    "\n",
    "documents = SimpleDirectoryReader('data').load_data()\n"
   ]
  },
  {
   "cell_type": "code",
   "execution_count": 39,
   "metadata": {},
   "outputs": [
    {
     "data": {
      "text/plain": [
       "[Document(id_='3fa7b224-109c-4e83-a351-940aac0f819e', embedding=None, metadata={'page_label': '1', 'file_name': 'Dear grandfather.pdf', 'file_path': 'data\\\\Dear grandfather.pdf', 'file_type': 'application/pdf', 'file_size': 63308, 'creation_date': '2024-07-18', 'last_modified_date': '2024-07-18', 'last_accessed_date': '2024-07-18'}, excluded_embed_metadata_keys=['file_name', 'file_type', 'file_size', 'creation_date', 'last_modified_date', 'last_accessed_date'], excluded_llm_metadata_keys=['file_name', 'file_type', 'file_size', 'creation_date', 'last_modified_date', 'last_accessed_date'], relationships={}, text='“Dear grandfather, Konstantin Makaritch,” he wrote, “I am writing you a letter. I wish you a happy Christmas, \\nand all blessings from God Almighty. I have neither father nor mother, you are the only one left me.”  \\nVanka raised his eyes to the dark ikon on which the light of his candle was reflected, and vividly recalled his \\ngrandfather, Konstantin Makaritch, who was night watchman to a family called Zhivarev. He was a thin but \\nextraordinarily nimble and lively littl e old man of sixty -five, with an everlastingly laughing face and drunken \\neyes. By day he slept in the servants’ kitchen, or made jokes with the cooks; at night, wrapped in an ample \\nsheepskin, he walked round the grounds and tapped with his little mallet. O ld Kashtanka and Eel, so -called on \\naccount of his dark colour and his long body like a weasel’s, followed him with hanging heads. This Eel was \\nexceptionally polite and affectionate, and looked with equal kindness on strangers and his own masters, but \\nhad n ot a very good reputation. Under his politeness and meekness was hidden the most Jesuitical cunning. \\nNo one knew better how to creep up on occasion and snap at one’s legs, to slip into the store -room, or steal a \\nhen from a peasant. His hind legs had been n early pulled off more than once, twice he had been hanged, \\nevery week he was thrashed till he was half dead, but he always revived.  \\nAt this moment grandfather was, no doubt, standing at the gate, screwing up his eyes at the red windows of \\nthe church, stamping with his high felt boots, and joking with the servants. His little mallet was hanging on his \\nbelt. He was clasping his hands, sh rugging with the cold, and, with an aged chuckle, pinching first the \\nhousemaid, then the cook.  \\n“How about a pinch of snuff?” he was saying, offering the women his snuff -box. \\nThe women would take a sniff and sneeze. Grandfather would be indescribably delighted, go off into a merry \\nchuckle, and cry:  \\n“Tear it off, it has frozen on!”  \\nThey give the dogs a sniff of snuff too. Kashtanka sneezes, wriggles her head, and walks away offended. Eel \\ndoes not sneeze, from politeness, but wags his tail. And the weather is glorious. The air is still, fresh, and \\ntransparent. The night is dark, but o ne can see the whole village with its white roofs and coils of smoke coming \\nfrom the chimneys, the trees silvered with hoar frost, the snowdrifts. The whole sky spangled with gay twinkling \\nstars, and the Milky Way is as distinct as though it had been washe d and rubbed with snow for a holiday. . . .  \\nVanka sighed, dipped his pen, and went on writing:  \\n“And yesterday I had a wigging. The master pulled me out into the yard by my hair, and whacked me with a \\nboot-stretcher because I accidentally fell asleep while I was rocking their brat in the cradle. And a week ago the \\nmistress told me to clean a herring,  and I began from the tail end, and she took the herring and thrust its head \\nin my face. The workmen laugh at me and send me to the tavern for vodka, and tell me to steal the master’s \\ncucumbers for them, and the master beats me with anything that comes to hand. And there is nothing to eat. In \\nthe morning they give me bread, for dinner, porridge, and in the evening, bread again; but as for tea, or soup, \\nthe master and mistress gobble it all up themselves. And I am put to sleep in the passage, and when their \\nwretched brat cries I get no sleep at all, but have to rock the cradle. Dear grandfather, show the divine mercy, \\ntake me away from here, home to the village. It’s more than I can bear. I bow down to your feet, and will pray \\nto God for you for ever, take me  away from here or I shall die.”  \\nVanka’s mouth worked, he rubbed his eyes with his black fist, and gave a sob.  \\n“I will powder your snuff for you,” he went on. “I will pray for you, and if I do anything you can thrash me like \\nSidor’s goat. And if you think I’ve no job, then I will beg the steward for Christ’s sake to let me clean his boots, \\nor I’ll go for a shepherd -boy instead of Fedka. Dear grandfather, it is more than I can bear, it’s simply no life at \\nall. I wanted to run away to the village, but I have no boots, and I am afraid of the frost. When I grow up big I \\nwill take care of you for this, and not let anyone  annoy you, and when you die I will pray for the rest of your \\nsoul, just as for my mammy’s.  ', start_char_idx=None, end_char_idx=None, text_template='{metadata_str}\\n\\n{content}', metadata_template='{key}: {value}', metadata_seperator='\\n'),\n",
       " Document(id_='fcec8665-829d-4e42-9d7b-b9f6881a74f9', embedding=None, metadata={'page_label': '2', 'file_name': 'Dear grandfather.pdf', 'file_path': 'data\\\\Dear grandfather.pdf', 'file_type': 'application/pdf', 'file_size': 63308, 'creation_date': '2024-07-18', 'last_modified_date': '2024-07-18', 'last_accessed_date': '2024-07-18'}, excluded_embed_metadata_keys=['file_name', 'file_type', 'file_size', 'creation_date', 'last_modified_date', 'last_accessed_date'], excluded_llm_metadata_keys=['file_name', 'file_type', 'file_size', 'creation_date', 'last_modified_date', 'last_accessed_date'], relationships={}, text='Moscow is a big town. It’s all gentlemen’s houses, and there are lots of horses, but there are no sheep, and the \\ndogs are not spiteful. The lads here don’t go out with the star, and they don’t let anyone go into the choir, and \\nonce I saw in a shop window f ishing -hooks for sale, fitted ready with the line and for all sorts of fish, awfully \\ngood ones, there was even one hook that would hold a forty -pound sheat -fish. And I have seen shops where \\nthere are guns of all sorts, after the pattern of the master’s gun s at home, so that I shouldn’t wonder if they are \\na hundred roubles each. . . . And in the butchers’ shops there are grouse and woodcocks and fish and hares, \\nbut the shopmen don’t say where they shoot them.  \\n“Dear grandfather, when they have the Christmas tree at the big house, get me a gilt walnut, and put it away in \\nthe green trunk. Ask the young lady Olga Ignatyevna, say it’s for Vanka.”  \\nVanka gave a tremulous sigh, and again stared at the window. He remembered how his grandfather always \\nwent into the forest to get the Christmas tree for his master’s family, and took his grandson with him. It was a \\nmerry time! Grandfather made a noise in h is throat, the forest crackled with the frost, and looking at them \\nVanka chortled too. Before chopping down the Christmas tree, grandfather would smoke a pipe, slowly take a \\npinch of snuff, and laugh at frozen Vanka. . . . The young fir trees, covered with  hoar frost, stood motionless, \\nwaiting to see which of them was to die. Wherever one looked, a hare flew like an arrow over the snowdrifts. . . \\n. Grandfather could not refrain from shouting: “Hold him, hold him . . . hold him! Ah, the bob -tailed devil!”  \\nWhen he had cut down the Christmas tree, grandfather used to drag it to the big house, and there set to work \\nto decorate it. . . . The young lady, who was Vanka’s favourite, Olga Ignatyevna, was the busiest of all. When \\nVanka’s mother Pelageya was alive, a nd a servant in the big house, Olga Ignatyevna used to give him \\ngoodies, and having nothing better to do, taught him to read and write, to count up to a hundred, and even to \\ndance a quadrille. When Pelageya died, Vanka had been transferred to the servants’  kitchen to be with his \\ngrandfather, and from the kitchen to the shoemaker’s in Moscow.  \\n“Do come, dear grandfather,” Vanka went on with his letter. “For Christ’s sake, I beg you, take me away. Have \\npity on an unhappy orphan like me; here everyone knocks me about, and I am fearfully hungry; I can’t tell you \\nwhat misery it is, I am always cryin g. And the other day the master hit me on the head with a last, so that I fell \\ndown. My life is wretched, worse than any dog’s. . . . I send greetings to Alyona, one -eyed Yegorka, and the \\ncoachman, and don’t give my concertina to anyone. I remain, your gra ndson, Ivan Zhukov. Dear grandfather, \\ndo come.”  \\nVanka folded the sheet of writing -paper twice, and put it into an envelope he had bought the day before for a \\nkopeck. . . . After thinking a little, he dipped the pen and wrote the address:  \\nTo grandfather in the village.  \\nThen he scratched his head, thought a little, and added: Konstantin Makaritch. Glad that he had not been \\nprevented from writing, he put on his cap and, without putting on his little greatcoat, ran out into the street as \\nhe was in his shirt. . . .  \\nThe shopmen at the butcher’s, whom he had questioned the day before, told him that letters were put in post -\\nboxes, and from the boxes were carried about all over the earth in mailcarts with drunken drivers and ringing \\nbells. Vanka ran to the nearest post -box, and thrust the precious letter in the slit. . . .  \\nAn hour later, lulled by sweet hopes, he was sound asleep. . . . He dreamed of the stove. On the stove was \\nsitting his grandfather, swinging his bare legs, and reading the letter to the cooks. . . .  \\nBy the stove was Eel, wagging his tail.  \\n— THE END – \\n ', start_char_idx=None, end_char_idx=None, text_template='{metadata_str}\\n\\n{content}', metadata_template='{key}: {value}', metadata_seperator='\\n')]"
      ]
     },
     "execution_count": 39,
     "metadata": {},
     "output_type": "execute_result"
    }
   ],
   "source": [
    "documents"
   ]
  },
  {
   "cell_type": "code",
   "execution_count": 40,
   "metadata": {},
   "outputs": [
    {
     "name": "stderr",
     "output_type": "stream",
     "text": [
      "Parsing nodes: 100%|██████████| 2/2 [00:00<00:00, 266.09it/s]\n",
      "Generating embeddings: 100%|██████████| 4/4 [00:00<00:00, 10.36it/s]\n"
     ]
    }
   ],
   "source": [
    "index=VectorStoreIndex.from_documents(documents,show_progress=True)"
   ]
  },
  {
   "cell_type": "code",
   "execution_count": 41,
   "metadata": {},
   "outputs": [
    {
     "data": {
      "text/plain": [
       "<llama_index.legacy.indices.vector_store.base.VectorStoreIndex at 0x22d8d34f730>"
      ]
     },
     "execution_count": 41,
     "metadata": {},
     "output_type": "execute_result"
    }
   ],
   "source": [
    "index"
   ]
  },
  {
   "cell_type": "code",
   "execution_count": 42,
   "metadata": {},
   "outputs": [],
   "source": [
    "query_engine = index.as_query_engine()"
   ]
  },
  {
   "cell_type": "code",
   "execution_count": 43,
   "metadata": {},
   "outputs": [],
   "source": [
    "res = query_engine.query(\"What is the story genre\")"
   ]
  },
  {
   "cell_type": "code",
   "execution_count": 44,
   "metadata": {},
   "outputs": [
    {
     "name": "stdout",
     "output_type": "stream",
     "text": [
      "The story genre is a narrative or short story.\n"
     ]
    }
   ],
   "source": [
    "print(res)"
   ]
  },
  {
   "cell_type": "code",
   "execution_count": 45,
   "metadata": {},
   "outputs": [
    {
     "name": "stdout",
     "output_type": "stream",
     "text": [
      "Final Response: The story genre is a narrative or short story.\n",
      "______________________________________________________________________\n",
      "Source Node 1/2\n",
      "Node ID: a66c93c7-dc3c-4aba-a9a1-b2b7004696dc\n",
      "Similarity: 0.7497889805616872\n",
      "Text: . . . After thinking a little, he dipped the pen and wrote the\n",
      "address:   To grandfather in the village.   Then he scratched his\n",
      "head, thought a little, and added: Konstantin Makaritch. Glad that he\n",
      "had not been  prevented from writing, he put on his cap and, without\n",
      "putting on his little greatcoat, ran out into the street as  he was in\n",
      "his shir...\n",
      "______________________________________________________________________\n",
      "Source Node 2/2\n",
      "Node ID: 93dd9aee-e04f-4870-9e9d-e147f6a92324\n",
      "Similarity: 0.7401593252973029\n",
      "Text: Moscow is a big town. It’s all gentlemen’s houses, and there are\n",
      "lots of horses, but there are no sheep, and the  dogs are not\n",
      "spiteful. The lads here don’t go out with the star, and they don’t let\n",
      "anyone go into the choir, and  once I saw in a shop window f ishing\n",
      "-hooks for sale, fitted ready with the line and for all sorts of fish,\n",
      "awfully  g...\n"
     ]
    }
   ],
   "source": [
    "# Lets print it in a better way\n",
    "\n",
    "from llama_index.legacy.response.pprint_utils import pprint_response\n",
    "\n",
    "pprint_response(res,show_source=True)"
   ]
  },
  {
   "cell_type": "code",
   "execution_count": 56,
   "metadata": {},
   "outputs": [],
   "source": [
    "# Similarity post processor\n",
    "\n",
    "from llama_index.legacy.postprocessor import SimilarityPostprocessor\n",
    "\n",
    "post_processor = SimilarityPostprocessor(similarity_cutoff=0.5)\n"
   ]
  },
  {
   "cell_type": "code",
   "execution_count": 59,
   "metadata": {},
   "outputs": [
    {
     "name": "stdout",
     "output_type": "stream",
     "text": [
      "Konstantin Makaritch\n"
     ]
    }
   ],
   "source": [
    "import os.path\n",
    "from llama_index.legacy import (\n",
    "    VectorStoreIndex,\n",
    "    SimpleDirectoryReader,\n",
    "    StorageContext,\n",
    "    load_index_from_storage,\n",
    ")\n",
    "\n",
    "# check if storage already exists\n",
    "PERSIST_DIR = \"./storage\"\n",
    "if not os.path.exists(PERSIST_DIR):\n",
    "    # load the documents and create the index\n",
    "    documents = SimpleDirectoryReader(\"data\").load_data()\n",
    "    index = VectorStoreIndex.from_documents(documents)\n",
    "    # store it for later\n",
    "    index.storage_context.persist(persist_dir=PERSIST_DIR)\n",
    "else:\n",
    "    # load the existing index\n",
    "    storage_context = StorageContext.from_defaults(persist_dir=PERSIST_DIR)\n",
    "    index = load_index_from_storage(storage_context)\n",
    "\n",
    "# either way we can now query the index\n",
    "query_engine = index.as_query_engine()\n",
    "response = query_engine.query(\"Whats the grand father name?\")\n",
    "print(response)"
   ]
  },
  {
   "cell_type": "code",
   "execution_count": null,
   "metadata": {},
   "outputs": [],
   "source": []
  },
  {
   "cell_type": "code",
   "execution_count": null,
   "metadata": {},
   "outputs": [],
   "source": []
  }
 ],
 "metadata": {
  "kernelspec": {
   "display_name": "base",
   "language": "python",
   "name": "python3"
  },
  "language_info": {
   "codemirror_mode": {
    "name": "ipython",
    "version": 3
   },
   "file_extension": ".py",
   "mimetype": "text/x-python",
   "name": "python",
   "nbconvert_exporter": "python",
   "pygments_lexer": "ipython3",
   "version": "3.10.0"
  }
 },
 "nbformat": 4,
 "nbformat_minor": 2
}
